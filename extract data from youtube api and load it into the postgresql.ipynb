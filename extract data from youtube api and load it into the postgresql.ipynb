{
 "cells": [
  {
   "cell_type": "code",
   "execution_count": 1,
   "id": "1b1db0b0",
   "metadata": {},
   "outputs": [],
   "source": [
    "# importing dependant liberaries \n",
    "import requests\n",
    "import pandas as pd "
   ]
  },
  {
   "cell_type": "code",
   "execution_count": 2,
   "id": "f7205c37",
   "metadata": {},
   "outputs": [],
   "source": [
    "# vairables\n",
    "api_key = \"paste your youtube api key here\"\n",
    "\n",
    "channel_id = \"UCX6OQ3DkcsbYNE6H8uQQuVA\""
   ]
  },
  {
   "cell_type": "code",
   "execution_count": 3,
   "id": "0574bd76",
   "metadata": {},
   "outputs": [],
   "source": [
    "#api call\n",
    "url = \"https://www.googleapis.com/youtube/v3/search?key=\"+api_key+\"&channelId=\"+channel_id+\"&part=snippet,id&order=date&maxResults=2000\"\n",
    "\n",
    "response = requests.get(url).json()"
   ]
  },
  {
   "cell_type": "code",
   "execution_count": 4,
   "id": "ad001f83",
   "metadata": {},
   "outputs": [
    {
     "data": {
      "text/plain": [
       "{'kind': 'youtube#searchResult',\n",
       " 'etag': 'ScxwGD7m88eoi2TJm9Hy5ymb-wk',\n",
       " 'id': {'kind': 'youtube#video', 'videoId': 'PWirijQkH4M'},\n",
       " 'snippet': {'publishedAt': '2024-06-15T16:00:01Z',\n",
       "  'channelId': 'UCX6OQ3DkcsbYNE6H8uQQuVA',\n",
       "  'title': 'World’s Deadliest Obstacle Course!',\n",
       "  'description': \"The obstacles in this video only get crazier as it goes on… Head to Walmart for Cirkul's BIGGEST. DROP. EVER. ⌛️ (while ...\",\n",
       "  'thumbnails': {'default': {'url': 'https://i.ytimg.com/vi/PWirijQkH4M/default.jpg',\n",
       "    'width': 120,\n",
       "    'height': 90},\n",
       "   'medium': {'url': 'https://i.ytimg.com/vi/PWirijQkH4M/mqdefault.jpg',\n",
       "    'width': 320,\n",
       "    'height': 180},\n",
       "   'high': {'url': 'https://i.ytimg.com/vi/PWirijQkH4M/hqdefault.jpg',\n",
       "    'width': 480,\n",
       "    'height': 360}},\n",
       "  'channelTitle': 'MrBeast',\n",
       "  'liveBroadcastContent': 'none',\n",
       "  'publishTime': '2024-06-15T16:00:01Z'}}"
      ]
     },
     "execution_count": 4,
     "metadata": {},
     "output_type": "execute_result"
    }
   ],
   "source": [
    "# reading json output\n",
    "response['items'][0]"
   ]
  },
  {
   "cell_type": "code",
   "execution_count": 5,
   "id": "aa3c87f7",
   "metadata": {},
   "outputs": [],
   "source": [
    "# setting the json output as a DataFrame\n",
    "df_video_details = pd.json_normalize(response['items'])"
   ]
  },
  {
   "cell_type": "code",
   "execution_count": 6,
   "id": "627283f6",
   "metadata": {},
   "outputs": [
    {
     "data": {
      "text/html": [
       "<div>\n",
       "<style scoped>\n",
       "    .dataframe tbody tr th:only-of-type {\n",
       "        vertical-align: middle;\n",
       "    }\n",
       "\n",
       "    .dataframe tbody tr th {\n",
       "        vertical-align: top;\n",
       "    }\n",
       "\n",
       "    .dataframe thead th {\n",
       "        text-align: right;\n",
       "    }\n",
       "</style>\n",
       "<table border=\"1\" class=\"dataframe\">\n",
       "  <thead>\n",
       "    <tr style=\"text-align: right;\">\n",
       "      <th></th>\n",
       "      <th>kind</th>\n",
       "      <th>etag</th>\n",
       "      <th>id.kind</th>\n",
       "      <th>id.videoId</th>\n",
       "      <th>snippet.publishedAt</th>\n",
       "      <th>snippet.channelId</th>\n",
       "      <th>snippet.title</th>\n",
       "      <th>snippet.description</th>\n",
       "      <th>snippet.thumbnails.default.url</th>\n",
       "      <th>snippet.thumbnails.default.width</th>\n",
       "      <th>snippet.thumbnails.default.height</th>\n",
       "      <th>snippet.thumbnails.medium.url</th>\n",
       "      <th>snippet.thumbnails.medium.width</th>\n",
       "      <th>snippet.thumbnails.medium.height</th>\n",
       "      <th>snippet.thumbnails.high.url</th>\n",
       "      <th>snippet.thumbnails.high.width</th>\n",
       "      <th>snippet.thumbnails.high.height</th>\n",
       "      <th>snippet.channelTitle</th>\n",
       "      <th>snippet.liveBroadcastContent</th>\n",
       "      <th>snippet.publishTime</th>\n",
       "    </tr>\n",
       "  </thead>\n",
       "  <tbody>\n",
       "    <tr>\n",
       "      <th>0</th>\n",
       "      <td>youtube#searchResult</td>\n",
       "      <td>ScxwGD7m88eoi2TJm9Hy5ymb-wk</td>\n",
       "      <td>youtube#video</td>\n",
       "      <td>PWirijQkH4M</td>\n",
       "      <td>2024-06-15T16:00:01Z</td>\n",
       "      <td>UCX6OQ3DkcsbYNE6H8uQQuVA</td>\n",
       "      <td>World’s Deadliest Obstacle Course!</td>\n",
       "      <td>The obstacles in this video only get crazier a...</td>\n",
       "      <td>https://i.ytimg.com/vi/PWirijQkH4M/default.jpg</td>\n",
       "      <td>120</td>\n",
       "      <td>90</td>\n",
       "      <td>https://i.ytimg.com/vi/PWirijQkH4M/mqdefault.jpg</td>\n",
       "      <td>320</td>\n",
       "      <td>180</td>\n",
       "      <td>https://i.ytimg.com/vi/PWirijQkH4M/hqdefault.jpg</td>\n",
       "      <td>480</td>\n",
       "      <td>360</td>\n",
       "      <td>MrBeast</td>\n",
       "      <td>none</td>\n",
       "      <td>2024-06-15T16:00:01Z</td>\n",
       "    </tr>\n",
       "    <tr>\n",
       "      <th>1</th>\n",
       "      <td>youtube#searchResult</td>\n",
       "      <td>7HXhxWzxUSsOUUrJUkl0lEmuflA</td>\n",
       "      <td>youtube#video</td>\n",
       "      <td>U_LlX4t0A9I</td>\n",
       "      <td>2024-06-01T16:00:00Z</td>\n",
       "      <td>UCX6OQ3DkcsbYNE6H8uQQuVA</td>\n",
       "      <td>$10,000 Every Day You Survive In The Wilderness</td>\n",
       "      <td>They survived longer than I expected lol Feast...</td>\n",
       "      <td>https://i.ytimg.com/vi/U_LlX4t0A9I/default.jpg</td>\n",
       "      <td>120</td>\n",
       "      <td>90</td>\n",
       "      <td>https://i.ytimg.com/vi/U_LlX4t0A9I/mqdefault.jpg</td>\n",
       "      <td>320</td>\n",
       "      <td>180</td>\n",
       "      <td>https://i.ytimg.com/vi/U_LlX4t0A9I/hqdefault.jpg</td>\n",
       "      <td>480</td>\n",
       "      <td>360</td>\n",
       "      <td>MrBeast</td>\n",
       "      <td>none</td>\n",
       "      <td>2024-06-01T16:00:00Z</td>\n",
       "    </tr>\n",
       "    <tr>\n",
       "      <th>2</th>\n",
       "      <td>youtube#searchResult</td>\n",
       "      <td>FphFI2U4uOTEGcO_n4oYWk04Jyg</td>\n",
       "      <td>youtube#video</td>\n",
       "      <td>T8I165Qxeo8</td>\n",
       "      <td>2024-05-30T16:00:01Z</td>\n",
       "      <td>UCX6OQ3DkcsbYNE6H8uQQuVA</td>\n",
       "      <td>Sprinting with More and More Money</td>\n",
       "      <td></td>\n",
       "      <td>https://i.ytimg.com/vi/T8I165Qxeo8/default.jpg</td>\n",
       "      <td>120</td>\n",
       "      <td>90</td>\n",
       "      <td>https://i.ytimg.com/vi/T8I165Qxeo8/mqdefault.jpg</td>\n",
       "      <td>320</td>\n",
       "      <td>180</td>\n",
       "      <td>https://i.ytimg.com/vi/T8I165Qxeo8/hqdefault.jpg</td>\n",
       "      <td>480</td>\n",
       "      <td>360</td>\n",
       "      <td>MrBeast</td>\n",
       "      <td>none</td>\n",
       "      <td>2024-05-30T16:00:01Z</td>\n",
       "    </tr>\n",
       "    <tr>\n",
       "      <th>3</th>\n",
       "      <td>youtube#searchResult</td>\n",
       "      <td>fmeuboOEsfpZgG3AZjd-e8m-Tzs</td>\n",
       "      <td>youtube#video</td>\n",
       "      <td>i-9V21MqlhY</td>\n",
       "      <td>2024-05-28T16:00:00Z</td>\n",
       "      <td>UCX6OQ3DkcsbYNE6H8uQQuVA</td>\n",
       "      <td>Giving 1000 Phones Away</td>\n",
       "      <td></td>\n",
       "      <td>https://i.ytimg.com/vi/i-9V21MqlhY/default.jpg</td>\n",
       "      <td>120</td>\n",
       "      <td>90</td>\n",
       "      <td>https://i.ytimg.com/vi/i-9V21MqlhY/mqdefault.jpg</td>\n",
       "      <td>320</td>\n",
       "      <td>180</td>\n",
       "      <td>https://i.ytimg.com/vi/i-9V21MqlhY/hqdefault.jpg</td>\n",
       "      <td>480</td>\n",
       "      <td>360</td>\n",
       "      <td>MrBeast</td>\n",
       "      <td>none</td>\n",
       "      <td>2024-05-28T16:00:00Z</td>\n",
       "    </tr>\n",
       "    <tr>\n",
       "      <th>4</th>\n",
       "      <td>youtube#searchResult</td>\n",
       "      <td>l01HXLJ1pubKDquSEpaUBnHlZYY</td>\n",
       "      <td>youtube#video</td>\n",
       "      <td>f0cXJ6mJxGc</td>\n",
       "      <td>2024-05-14T16:00:00Z</td>\n",
       "      <td>UCX6OQ3DkcsbYNE6H8uQQuVA</td>\n",
       "      <td>Bottle Head Smashing World Record Attempt!</td>\n",
       "      <td></td>\n",
       "      <td>https://i.ytimg.com/vi/f0cXJ6mJxGc/default.jpg</td>\n",
       "      <td>120</td>\n",
       "      <td>90</td>\n",
       "      <td>https://i.ytimg.com/vi/f0cXJ6mJxGc/mqdefault.jpg</td>\n",
       "      <td>320</td>\n",
       "      <td>180</td>\n",
       "      <td>https://i.ytimg.com/vi/f0cXJ6mJxGc/hqdefault.jpg</td>\n",
       "      <td>480</td>\n",
       "      <td>360</td>\n",
       "      <td>MrBeast</td>\n",
       "      <td>none</td>\n",
       "      <td>2024-05-14T16:00:00Z</td>\n",
       "    </tr>\n",
       "  </tbody>\n",
       "</table>\n",
       "</div>"
      ],
      "text/plain": [
       "                   kind                         etag        id.kind  \\\n",
       "0  youtube#searchResult  ScxwGD7m88eoi2TJm9Hy5ymb-wk  youtube#video   \n",
       "1  youtube#searchResult  7HXhxWzxUSsOUUrJUkl0lEmuflA  youtube#video   \n",
       "2  youtube#searchResult  FphFI2U4uOTEGcO_n4oYWk04Jyg  youtube#video   \n",
       "3  youtube#searchResult  fmeuboOEsfpZgG3AZjd-e8m-Tzs  youtube#video   \n",
       "4  youtube#searchResult  l01HXLJ1pubKDquSEpaUBnHlZYY  youtube#video   \n",
       "\n",
       "    id.videoId   snippet.publishedAt         snippet.channelId  \\\n",
       "0  PWirijQkH4M  2024-06-15T16:00:01Z  UCX6OQ3DkcsbYNE6H8uQQuVA   \n",
       "1  U_LlX4t0A9I  2024-06-01T16:00:00Z  UCX6OQ3DkcsbYNE6H8uQQuVA   \n",
       "2  T8I165Qxeo8  2024-05-30T16:00:01Z  UCX6OQ3DkcsbYNE6H8uQQuVA   \n",
       "3  i-9V21MqlhY  2024-05-28T16:00:00Z  UCX6OQ3DkcsbYNE6H8uQQuVA   \n",
       "4  f0cXJ6mJxGc  2024-05-14T16:00:00Z  UCX6OQ3DkcsbYNE6H8uQQuVA   \n",
       "\n",
       "                                     snippet.title  \\\n",
       "0               World’s Deadliest Obstacle Course!   \n",
       "1  $10,000 Every Day You Survive In The Wilderness   \n",
       "2               Sprinting with More and More Money   \n",
       "3                          Giving 1000 Phones Away   \n",
       "4       Bottle Head Smashing World Record Attempt!   \n",
       "\n",
       "                                 snippet.description  \\\n",
       "0  The obstacles in this video only get crazier a...   \n",
       "1  They survived longer than I expected lol Feast...   \n",
       "2                                                      \n",
       "3                                                      \n",
       "4                                                      \n",
       "\n",
       "                   snippet.thumbnails.default.url  \\\n",
       "0  https://i.ytimg.com/vi/PWirijQkH4M/default.jpg   \n",
       "1  https://i.ytimg.com/vi/U_LlX4t0A9I/default.jpg   \n",
       "2  https://i.ytimg.com/vi/T8I165Qxeo8/default.jpg   \n",
       "3  https://i.ytimg.com/vi/i-9V21MqlhY/default.jpg   \n",
       "4  https://i.ytimg.com/vi/f0cXJ6mJxGc/default.jpg   \n",
       "\n",
       "   snippet.thumbnails.default.width  snippet.thumbnails.default.height  \\\n",
       "0                               120                                 90   \n",
       "1                               120                                 90   \n",
       "2                               120                                 90   \n",
       "3                               120                                 90   \n",
       "4                               120                                 90   \n",
       "\n",
       "                      snippet.thumbnails.medium.url  \\\n",
       "0  https://i.ytimg.com/vi/PWirijQkH4M/mqdefault.jpg   \n",
       "1  https://i.ytimg.com/vi/U_LlX4t0A9I/mqdefault.jpg   \n",
       "2  https://i.ytimg.com/vi/T8I165Qxeo8/mqdefault.jpg   \n",
       "3  https://i.ytimg.com/vi/i-9V21MqlhY/mqdefault.jpg   \n",
       "4  https://i.ytimg.com/vi/f0cXJ6mJxGc/mqdefault.jpg   \n",
       "\n",
       "   snippet.thumbnails.medium.width  snippet.thumbnails.medium.height  \\\n",
       "0                              320                               180   \n",
       "1                              320                               180   \n",
       "2                              320                               180   \n",
       "3                              320                               180   \n",
       "4                              320                               180   \n",
       "\n",
       "                        snippet.thumbnails.high.url  \\\n",
       "0  https://i.ytimg.com/vi/PWirijQkH4M/hqdefault.jpg   \n",
       "1  https://i.ytimg.com/vi/U_LlX4t0A9I/hqdefault.jpg   \n",
       "2  https://i.ytimg.com/vi/T8I165Qxeo8/hqdefault.jpg   \n",
       "3  https://i.ytimg.com/vi/i-9V21MqlhY/hqdefault.jpg   \n",
       "4  https://i.ytimg.com/vi/f0cXJ6mJxGc/hqdefault.jpg   \n",
       "\n",
       "   snippet.thumbnails.high.width  snippet.thumbnails.high.height  \\\n",
       "0                            480                             360   \n",
       "1                            480                             360   \n",
       "2                            480                             360   \n",
       "3                            480                             360   \n",
       "4                            480                             360   \n",
       "\n",
       "  snippet.channelTitle snippet.liveBroadcastContent   snippet.publishTime  \n",
       "0              MrBeast                         none  2024-06-15T16:00:01Z  \n",
       "1              MrBeast                         none  2024-06-01T16:00:00Z  \n",
       "2              MrBeast                         none  2024-05-30T16:00:01Z  \n",
       "3              MrBeast                         none  2024-05-28T16:00:00Z  \n",
       "4              MrBeast                         none  2024-05-14T16:00:00Z  "
      ]
     },
     "execution_count": 6,
     "metadata": {},
     "output_type": "execute_result"
    }
   ],
   "source": [
    "df_video_details.head()"
   ]
  },
  {
   "cell_type": "code",
   "execution_count": 7,
   "id": "115a0778",
   "metadata": {},
   "outputs": [
    {
     "data": {
      "text/plain": [
       "50"
      ]
     },
     "execution_count": 7,
     "metadata": {},
     "output_type": "execute_result"
    }
   ],
   "source": [
    "df_video_details['id.videoId'].count()"
   ]
  },
  {
   "cell_type": "code",
   "execution_count": 8,
   "id": "b49cd3a1",
   "metadata": {},
   "outputs": [
    {
     "data": {
      "text/html": [
       "<div>\n",
       "<style scoped>\n",
       "    .dataframe tbody tr th:only-of-type {\n",
       "        vertical-align: middle;\n",
       "    }\n",
       "\n",
       "    .dataframe tbody tr th {\n",
       "        vertical-align: top;\n",
       "    }\n",
       "\n",
       "    .dataframe thead th {\n",
       "        text-align: right;\n",
       "    }\n",
       "</style>\n",
       "<table border=\"1\" class=\"dataframe\">\n",
       "  <thead>\n",
       "    <tr style=\"text-align: right;\">\n",
       "      <th></th>\n",
       "      <th>kind</th>\n",
       "      <th>etag</th>\n",
       "      <th>id</th>\n",
       "      <th>statistics.viewCount</th>\n",
       "      <th>statistics.likeCount</th>\n",
       "      <th>statistics.favoriteCount</th>\n",
       "      <th>statistics.commentCount</th>\n",
       "    </tr>\n",
       "  </thead>\n",
       "  <tbody>\n",
       "  </tbody>\n",
       "</table>\n",
       "</div>"
      ],
      "text/plain": [
       "Empty DataFrame\n",
       "Columns: [kind, etag, id, statistics.viewCount, statistics.likeCount, statistics.favoriteCount, statistics.commentCount]\n",
       "Index: []"
      ]
     },
     "execution_count": 8,
     "metadata": {},
     "output_type": "execute_result"
    }
   ],
   "source": [
    "# creating a video stats dataframe\n",
    "df_video_stats = pd.DataFrame(columns=['kind', 'etag', 'id', 'statistics.viewCount', 'statistics.likeCount',\n",
    "       'statistics.favoriteCount', 'statistics.commentCount'])\n",
    "\n",
    "df_video_stats"
   ]
  },
  {
   "cell_type": "code",
   "execution_count": 9,
   "id": "efcc0ccf",
   "metadata": {},
   "outputs": [
    {
     "data": {
      "text/html": [
       "<div>\n",
       "<style scoped>\n",
       "    .dataframe tbody tr th:only-of-type {\n",
       "        vertical-align: middle;\n",
       "    }\n",
       "\n",
       "    .dataframe tbody tr th {\n",
       "        vertical-align: top;\n",
       "    }\n",
       "\n",
       "    .dataframe thead th {\n",
       "        text-align: right;\n",
       "    }\n",
       "</style>\n",
       "<table border=\"1\" class=\"dataframe\">\n",
       "  <thead>\n",
       "    <tr style=\"text-align: right;\">\n",
       "      <th></th>\n",
       "      <th>kind</th>\n",
       "      <th>etag</th>\n",
       "      <th>id</th>\n",
       "      <th>statistics.viewCount</th>\n",
       "      <th>statistics.likeCount</th>\n",
       "      <th>statistics.favoriteCount</th>\n",
       "      <th>statistics.commentCount</th>\n",
       "    </tr>\n",
       "  </thead>\n",
       "  <tbody>\n",
       "    <tr>\n",
       "      <th>0</th>\n",
       "      <td>youtube#video</td>\n",
       "      <td>09JU9dQSvEZCOUeAU-3datQiswE</td>\n",
       "      <td>PWirijQkH4M</td>\n",
       "      <td>123821283</td>\n",
       "      <td>4867772</td>\n",
       "      <td>0</td>\n",
       "      <td>137400</td>\n",
       "    </tr>\n",
       "    <tr>\n",
       "      <th>1</th>\n",
       "      <td>youtube#video</td>\n",
       "      <td>rH3FOtf_zaqn_-Ok6ZTD5-HwdSY</td>\n",
       "      <td>U_LlX4t0A9I</td>\n",
       "      <td>147600725</td>\n",
       "      <td>6510228</td>\n",
       "      <td>0</td>\n",
       "      <td>334738</td>\n",
       "    </tr>\n",
       "    <tr>\n",
       "      <th>2</th>\n",
       "      <td>youtube#video</td>\n",
       "      <td>8ZjJBm1E98oqtlBQ5oMNoTvGazs</td>\n",
       "      <td>T8I165Qxeo8</td>\n",
       "      <td>190443417</td>\n",
       "      <td>8310804</td>\n",
       "      <td>0</td>\n",
       "      <td>73584</td>\n",
       "    </tr>\n",
       "    <tr>\n",
       "      <th>3</th>\n",
       "      <td>youtube#video</td>\n",
       "      <td>GvICjD1u3TH_wZksrB2FZREelmY</td>\n",
       "      <td>i-9V21MqlhY</td>\n",
       "      <td>151572265</td>\n",
       "      <td>12339002</td>\n",
       "      <td>0</td>\n",
       "      <td>680635</td>\n",
       "    </tr>\n",
       "    <tr>\n",
       "      <th>4</th>\n",
       "      <td>youtube#video</td>\n",
       "      <td>C2zpSaaTIGK6u77EbttDCabGBSQ</td>\n",
       "      <td>f0cXJ6mJxGc</td>\n",
       "      <td>167828733</td>\n",
       "      <td>6309217</td>\n",
       "      <td>0</td>\n",
       "      <td>35684</td>\n",
       "    </tr>\n",
       "  </tbody>\n",
       "</table>\n",
       "</div>"
      ],
      "text/plain": [
       "            kind                         etag           id  \\\n",
       "0  youtube#video  09JU9dQSvEZCOUeAU-3datQiswE  PWirijQkH4M   \n",
       "1  youtube#video  rH3FOtf_zaqn_-Ok6ZTD5-HwdSY  U_LlX4t0A9I   \n",
       "2  youtube#video  8ZjJBm1E98oqtlBQ5oMNoTvGazs  T8I165Qxeo8   \n",
       "3  youtube#video  GvICjD1u3TH_wZksrB2FZREelmY  i-9V21MqlhY   \n",
       "4  youtube#video  C2zpSaaTIGK6u77EbttDCabGBSQ  f0cXJ6mJxGc   \n",
       "\n",
       "  statistics.viewCount statistics.likeCount statistics.favoriteCount  \\\n",
       "0            123821283              4867772                        0   \n",
       "1            147600725              6510228                        0   \n",
       "2            190443417              8310804                        0   \n",
       "3            151572265             12339002                        0   \n",
       "4            167828733              6309217                        0   \n",
       "\n",
       "  statistics.commentCount  \n",
       "0                  137400  \n",
       "1                  334738  \n",
       "2                   73584  \n",
       "3                  680635  \n",
       "4                   35684  "
      ]
     },
     "execution_count": 9,
     "metadata": {},
     "output_type": "execute_result"
    }
   ],
   "source": [
    "# calling api again and pulling data into video stats dataframe\n",
    "video_stats_list = []\n",
    "\n",
    "for video in df_video_details['id.videoId']:\n",
    "    url_video_stats = \"https://www.googleapis.com/youtube/v3/videos?id=\"+video+\"&part=statistics&key=\"+api_key\n",
    "    response_video_stats = requests.get(url_video_stats).json()\n",
    "    df = pd.json_normalize(response_video_stats['items'])\n",
    "    video_stats_list.append(df)\n",
    "    df_video_stats = pd.concat(video_stats_list, ignore_index=True)\n",
    "    \n",
    "df_video_stats.head()"
   ]
  },
  {
   "cell_type": "code",
   "execution_count": 10,
   "id": "753167ae",
   "metadata": {},
   "outputs": [
    {
     "data": {
      "text/plain": [
       "kind                        50\n",
       "etag                        50\n",
       "id                          50\n",
       "statistics.viewCount        50\n",
       "statistics.likeCount        50\n",
       "statistics.favoriteCount    50\n",
       "statistics.commentCount     50\n",
       "dtype: int64"
      ]
     },
     "execution_count": 10,
     "metadata": {},
     "output_type": "execute_result"
    }
   ],
   "source": [
    "df_video_stats.count()"
   ]
  },
  {
   "cell_type": "code",
   "execution_count": 11,
   "id": "15195186",
   "metadata": {},
   "outputs": [
    {
     "name": "stdout",
     "output_type": "stream",
     "text": [
      "successful\n"
     ]
    }
   ],
   "source": [
    "# connecting to postgresql\n",
    "import sqlalchemy as sa\n",
    "\n",
    "user = 'postgres'\n",
    "host = 'localhost'\n",
    "password = 'password'\n",
    "port = '5432'\n",
    "database = 'learning'\n",
    "\n",
    "conn_string = f'postgresql+psycopg2://{user}:{password}@{host}:{port}/{database}'\n",
    "    \n",
    "engine = sa.create_engine(conn_string)\n",
    "\n",
    "try:\n",
    "    with engine.connect() as connections:\n",
    "        print('successful')\n",
    "except exception as e:\n",
    "    print(f'failed: {e}')"
   ]
  },
  {
   "cell_type": "code",
   "execution_count": 12,
   "id": "613eb67c",
   "metadata": {},
   "outputs": [
    {
     "data": {
      "text/plain": [
       "50"
      ]
     },
     "execution_count": 12,
     "metadata": {},
     "output_type": "execute_result"
    }
   ],
   "source": [
    "# creating video_details table in postgresql\n",
    "df_video_details.to_sql('video_details', con=engine.connect(), schema='raw',index=False, if_exists='replace')"
   ]
  },
  {
   "cell_type": "code",
   "execution_count": 13,
   "id": "491b6a77",
   "metadata": {},
   "outputs": [
    {
     "data": {
      "text/plain": [
       "50"
      ]
     },
     "execution_count": 13,
     "metadata": {},
     "output_type": "execute_result"
    }
   ],
   "source": [
    "# creating video_stats table in postgresql\n",
    "df_video_stats.to_sql('video_stats', con=engine.connect(), schema='raw', index=False, if_exists='replace')"
   ]
  }
 ],
 "metadata": {
  "kernelspec": {
   "display_name": "Python 3 (ipykernel)",
   "language": "python",
   "name": "python3"
  },
  "language_info": {
   "codemirror_mode": {
    "name": "ipython",
    "version": 3
   },
   "file_extension": ".py",
   "mimetype": "text/x-python",
   "name": "python",
   "nbconvert_exporter": "python",
   "pygments_lexer": "ipython3",
   "version": "3.11.4"
  }
 },
 "nbformat": 4,
 "nbformat_minor": 5
}
